{
  "nbformat": 4,
  "nbformat_minor": 0,
  "metadata": {
    "colab": {
      "name": "Gofood sentiment analyst.ipynb",
      "provenance": [],
      "authorship_tag": "ABX9TyNMSIjx5/G79MxDYIicUBcD",
      "include_colab_link": true
    },
    "kernelspec": {
      "name": "python3",
      "display_name": "Python 3"
    },
    "language_info": {
      "name": "python"
    }
  },
  "cells": [
    {
      "cell_type": "markdown",
      "metadata": {
        "id": "view-in-github",
        "colab_type": "text"
      },
      "source": [
        "<a href=\"https://colab.research.google.com/github/roannarum/Gofood-Sentiment/blob/main/Gofood_sentiment_analyst.ipynb\" target=\"_parent\"><img src=\"https://colab.research.google.com/assets/colab-badge.svg\" alt=\"Open In Colab\"/></a>"
      ]
    },
    {
      "cell_type": "code",
      "execution_count": null,
      "metadata": {
        "id": "bEu_sqt9PE7o"
      },
      "outputs": [],
      "source": [
        "import pandas as pd\n",
        "import seaborn as sns\n",
        "import matplotlib.pyplot as plt\n",
        "from nltk.sentiment.vader import SentimentIntensityAnalyzer\n",
        "from wordcloud import WordCloud, STOPWORDS, ImageColorGenerator\n",
        "import nltk\n",
        "import re\n",
        "from nltk.corpus import stopwords\n",
        "import string\n",
        "\n",
        "data = pd.read_csv(\"/content/gofood.csv\")\n",
        "data.head()"
      ]
    },
    {
      "cell_type": "code",
      "source": [
        "data = data[[\"username\", \"tweet\"]]\n",
        "data.isnull().sum()"
      ],
      "metadata": {
        "colab": {
          "base_uri": "https://localhost:8080/"
        },
        "id": "DypfNOX0_61p",
        "outputId": "b20506e8-5ccd-4ff2-8f01-0f0aef18e182"
      },
      "execution_count": 3,
      "outputs": [
        {
          "output_type": "execute_result",
          "data": {
            "text/plain": [
              "username    0\n",
              "tweet       0\n",
              "dtype: int64"
            ]
          },
          "metadata": {},
          "execution_count": 3
        }
      ]
    },
    {
      "cell_type": "code",
      "source": [
        "# text lowering\n",
        "def lower(text):\n",
        "    return text.lower()"
      ],
      "metadata": {
        "id": "abMmUtQKEySW"
      },
      "execution_count": 4,
      "outputs": []
    },
    {
      "cell_type": "code",
      "source": [
        "data[\"lower_tweet\"] = data[\"tweet\"].apply(lower)\n",
        "data.head(10)"
      ],
      "metadata": {
        "id": "1Fwpi7vEFBBm"
      },
      "execution_count": null,
      "outputs": []
    },
    {
      "cell_type": "code",
      "source": [
        "def clean(text):\n",
        "    text = re.sub(r'[0-9]+', '', text)\n",
        "    text = re.sub(r'[^\\w\\s]', '', text)\n",
        "    text = \" \".join(text.split())\n",
        "    return text\n",
        "    "
      ],
      "metadata": {
        "id": "AguM-Iq3cjMb"
      },
      "execution_count": 6,
      "outputs": []
    },
    {
      "cell_type": "code",
      "source": [
        "data[\"clean_tweet\"] = data[\"lower_tweet\"].apply(clean)\n",
        "data.head(10)"
      ],
      "metadata": {
        "id": "hcYovHu-dYLg"
      },
      "execution_count": null,
      "outputs": []
    },
    {
      "cell_type": "code",
      "source": [
        "!pip install pandas Sastrawi nlp-id"
      ],
      "metadata": {
        "id": "UwTHyCS9d12m"
      },
      "execution_count": null,
      "outputs": []
    },
    {
      "cell_type": "code",
      "source": [
        "from Sastrawi.StopWordRemover.StopWordRemoverFactory import StopWordRemoverFactory, StopWordRemover, ArrayDictionary\n",
        "\n",
        "\n",
        "\n",
        "stopword_list = StopWordRemoverFactory().get_stop_words()\n",
        "stopword_list[:10]\n",
        "\n",
        "factory = StopWordRemoverFactory()\n",
        "stopwords = factory.create_stop_word_remover()\n",
        "\n",
        "all_stopwords = stopword_list\n",
        "\n",
        "# create ArrayDictionary \n",
        "stopword_dict = ArrayDictionary(all_stopwords)\n",
        "\n",
        "sastrawi_stopwords = StopWordRemover(stopword_dict)\n",
        "\n"
      ],
      "metadata": {
        "id": "22L5yWDldty5"
      },
      "execution_count": 9,
      "outputs": []
    },
    {
      "cell_type": "code",
      "source": [
        "# from nlp_id.stopword import StopWord \n",
        "\n",
        "def remove_stopword(text):\n",
        "    text = sastrawi_stopwords.remove(text)\n",
        "    return text"
      ],
      "metadata": {
        "id": "FsEJf3TEfiWt"
      },
      "execution_count": 11,
      "outputs": []
    },
    {
      "cell_type": "code",
      "source": [
        "data[\"clean_tweet_stopword\"] = data[\"clean_tweet\"].apply(remove_stopword)\n",
        "data.head(10)"
      ],
      "metadata": {
        "colab": {
          "base_uri": "https://localhost:8080/",
          "height": 580
        },
        "id": "Nbl_caZ5g6u3",
        "outputId": "45faa6d3-b40e-486f-c030-929d87e79dfa"
      },
      "execution_count": 12,
      "outputs": [
        {
          "output_type": "execute_result",
          "data": {
            "text/plain": [
              "          username                                              tweet  \\\n",
              "0          NibobaB  Ada MENU BARU di Ni Boba Brawijaya\\n\\nWaffle E...   \n",
              "1  Agungseptyanto_  @txtdrbekasi Cobain frisco burger. Di daerah p...   \n",
              "2        bibime_cc  Pengin nasi uduk, mager jalan.\\n*buka gofood, ...   \n",
              "3  skskskskkkskskk  -Aku gofood in ya biar gausa keluar sendirian\\...   \n",
              "4   404Loc_Unknown  @Odlstrn Ih disni banyaaaaaaakk. Tp pas pingin...   \n",
              "5     scarletoiles  @FOODFESS2 Bisa buat split bills pas bayar gof...   \n",
              "6          sselain  halo admin @gojekindonesia maaf mau tanya, aku...   \n",
              "7      drajatwicks  - beli migor pake pedulilindungi\\n- beli perta...   \n",
              "8         mildcigs  @modelcatfood Gofood jogja ke taiwan ongkirnya...   \n",
              "9          jayocns  karna aku pake shopee &amp; gofood jadinya aku...   \n",
              "\n",
              "                                         lower_tweet  \\\n",
              "0  ada menu baru di ni boba brawijaya\\n\\nwaffle e...   \n",
              "1  @txtdrbekasi cobain frisco burger. di daerah p...   \n",
              "2  pengin nasi uduk, mager jalan.\\n*buka gofood, ...   \n",
              "3  -aku gofood in ya biar gausa keluar sendirian\\...   \n",
              "4  @odlstrn ih disni banyaaaaaaakk. tp pas pingin...   \n",
              "5  @foodfess2 bisa buat split bills pas bayar gof...   \n",
              "6  halo admin @gojekindonesia maaf mau tanya, aku...   \n",
              "7  - beli migor pake pedulilindungi\\n- beli perta...   \n",
              "8  @modelcatfood gofood jogja ke taiwan ongkirnya...   \n",
              "9  karna aku pake shopee &amp; gofood jadinya aku...   \n",
              "\n",
              "                                         clean_tweet  \\\n",
              "0  ada menu baru di ni boba brawijaya waffle ego ...   \n",
              "1  txtdrbekasi cobain frisco burger di daerah pek...   \n",
              "2  pengin nasi uduk mager jalan buka gofood gojek...   \n",
              "3  aku gofood in ya biar gausa keluar sendirian s...   \n",
              "4  odlstrn ih disni banyaaaaaaakk tp pas pingin g...   \n",
              "5  foodfess bisa buat split bills pas bayar gofoo...   \n",
              "6  halo admin gojekindonesia maaf mau tanya akun ...   \n",
              "7  beli migor pake pedulilindungi beli pertalite ...   \n",
              "8  modelcatfood gofood jogja ke taiwan ongkirnya ...   \n",
              "9  karna aku pake shopee amp gofood jadinya aku s...   \n",
              "\n",
              "                                clean_tweet_stopword  \n",
              "0  menu baru ni boba brawijaya waffle ego amp bun...  \n",
              "1  txtdrbekasi cobain frisco burger daerah pekayo...  \n",
              "2  pengin nasi uduk mager jalan buka gofood gojek...  \n",
              "3  aku gofood in biar gausa keluar sendirian sama...  \n",
              "4  odlstrn ih disni banyaaaaaaakk tp pas pingin g...  \n",
              "5  foodfess buat split bills pas bayar gofood but...  \n",
              "6  halo admin gojekindonesia maaf mau tanya akun ...  \n",
              "7  beli migor pake pedulilindungi beli pertalite ...  \n",
              "8  modelcatfood gofood jogja taiwan ongkirnya ber...  \n",
              "9  karna aku pake shopee amp gofood jadinya aku s...  "
            ],
            "text/html": [
              "\n",
              "  <div id=\"df-aeeb13e1-421e-4154-b1cd-b576aed17183\">\n",
              "    <div class=\"colab-df-container\">\n",
              "      <div>\n",
              "<style scoped>\n",
              "    .dataframe tbody tr th:only-of-type {\n",
              "        vertical-align: middle;\n",
              "    }\n",
              "\n",
              "    .dataframe tbody tr th {\n",
              "        vertical-align: top;\n",
              "    }\n",
              "\n",
              "    .dataframe thead th {\n",
              "        text-align: right;\n",
              "    }\n",
              "</style>\n",
              "<table border=\"1\" class=\"dataframe\">\n",
              "  <thead>\n",
              "    <tr style=\"text-align: right;\">\n",
              "      <th></th>\n",
              "      <th>username</th>\n",
              "      <th>tweet</th>\n",
              "      <th>lower_tweet</th>\n",
              "      <th>clean_tweet</th>\n",
              "      <th>clean_tweet_stopword</th>\n",
              "    </tr>\n",
              "  </thead>\n",
              "  <tbody>\n",
              "    <tr>\n",
              "      <th>0</th>\n",
              "      <td>NibobaB</td>\n",
              "      <td>Ada MENU BARU di Ni Boba Brawijaya\\n\\nWaffle E...</td>\n",
              "      <td>ada menu baru di ni boba brawijaya\\n\\nwaffle e...</td>\n",
              "      <td>ada menu baru di ni boba brawijaya waffle ego ...</td>\n",
              "      <td>menu baru ni boba brawijaya waffle ego amp bun...</td>\n",
              "    </tr>\n",
              "    <tr>\n",
              "      <th>1</th>\n",
              "      <td>Agungseptyanto_</td>\n",
              "      <td>@txtdrbekasi Cobain frisco burger. Di daerah p...</td>\n",
              "      <td>@txtdrbekasi cobain frisco burger. di daerah p...</td>\n",
              "      <td>txtdrbekasi cobain frisco burger di daerah pek...</td>\n",
              "      <td>txtdrbekasi cobain frisco burger daerah pekayo...</td>\n",
              "    </tr>\n",
              "    <tr>\n",
              "      <th>2</th>\n",
              "      <td>bibime_cc</td>\n",
              "      <td>Pengin nasi uduk, mager jalan.\\n*buka gofood, ...</td>\n",
              "      <td>pengin nasi uduk, mager jalan.\\n*buka gofood, ...</td>\n",
              "      <td>pengin nasi uduk mager jalan buka gofood gojek...</td>\n",
              "      <td>pengin nasi uduk mager jalan buka gofood gojek...</td>\n",
              "    </tr>\n",
              "    <tr>\n",
              "      <th>3</th>\n",
              "      <td>skskskskkkskskk</td>\n",
              "      <td>-Aku gofood in ya biar gausa keluar sendirian\\...</td>\n",
              "      <td>-aku gofood in ya biar gausa keluar sendirian\\...</td>\n",
              "      <td>aku gofood in ya biar gausa keluar sendirian s...</td>\n",
              "      <td>aku gofood in biar gausa keluar sendirian sama...</td>\n",
              "    </tr>\n",
              "    <tr>\n",
              "      <th>4</th>\n",
              "      <td>404Loc_Unknown</td>\n",
              "      <td>@Odlstrn Ih disni banyaaaaaaakk. Tp pas pingin...</td>\n",
              "      <td>@odlstrn ih disni banyaaaaaaakk. tp pas pingin...</td>\n",
              "      <td>odlstrn ih disni banyaaaaaaakk tp pas pingin g...</td>\n",
              "      <td>odlstrn ih disni banyaaaaaaakk tp pas pingin g...</td>\n",
              "    </tr>\n",
              "    <tr>\n",
              "      <th>5</th>\n",
              "      <td>scarletoiles</td>\n",
              "      <td>@FOODFESS2 Bisa buat split bills pas bayar gof...</td>\n",
              "      <td>@foodfess2 bisa buat split bills pas bayar gof...</td>\n",
              "      <td>foodfess bisa buat split bills pas bayar gofoo...</td>\n",
              "      <td>foodfess buat split bills pas bayar gofood but...</td>\n",
              "    </tr>\n",
              "    <tr>\n",
              "      <th>6</th>\n",
              "      <td>sselain</td>\n",
              "      <td>halo admin @gojekindonesia maaf mau tanya, aku...</td>\n",
              "      <td>halo admin @gojekindonesia maaf mau tanya, aku...</td>\n",
              "      <td>halo admin gojekindonesia maaf mau tanya akun ...</td>\n",
              "      <td>halo admin gojekindonesia maaf mau tanya akun ...</td>\n",
              "    </tr>\n",
              "    <tr>\n",
              "      <th>7</th>\n",
              "      <td>drajatwicks</td>\n",
              "      <td>- beli migor pake pedulilindungi\\n- beli perta...</td>\n",
              "      <td>- beli migor pake pedulilindungi\\n- beli perta...</td>\n",
              "      <td>beli migor pake pedulilindungi beli pertalite ...</td>\n",
              "      <td>beli migor pake pedulilindungi beli pertalite ...</td>\n",
              "    </tr>\n",
              "    <tr>\n",
              "      <th>8</th>\n",
              "      <td>mildcigs</td>\n",
              "      <td>@modelcatfood Gofood jogja ke taiwan ongkirnya...</td>\n",
              "      <td>@modelcatfood gofood jogja ke taiwan ongkirnya...</td>\n",
              "      <td>modelcatfood gofood jogja ke taiwan ongkirnya ...</td>\n",
              "      <td>modelcatfood gofood jogja taiwan ongkirnya ber...</td>\n",
              "    </tr>\n",
              "    <tr>\n",
              "      <th>9</th>\n",
              "      <td>jayocns</td>\n",
              "      <td>karna aku pake shopee &amp;amp; gofood jadinya aku...</td>\n",
              "      <td>karna aku pake shopee &amp;amp; gofood jadinya aku...</td>\n",
              "      <td>karna aku pake shopee amp gofood jadinya aku s...</td>\n",
              "      <td>karna aku pake shopee amp gofood jadinya aku s...</td>\n",
              "    </tr>\n",
              "  </tbody>\n",
              "</table>\n",
              "</div>\n",
              "      <button class=\"colab-df-convert\" onclick=\"convertToInteractive('df-aeeb13e1-421e-4154-b1cd-b576aed17183')\"\n",
              "              title=\"Convert this dataframe to an interactive table.\"\n",
              "              style=\"display:none;\">\n",
              "        \n",
              "  <svg xmlns=\"http://www.w3.org/2000/svg\" height=\"24px\"viewBox=\"0 0 24 24\"\n",
              "       width=\"24px\">\n",
              "    <path d=\"M0 0h24v24H0V0z\" fill=\"none\"/>\n",
              "    <path d=\"M18.56 5.44l.94 2.06.94-2.06 2.06-.94-2.06-.94-.94-2.06-.94 2.06-2.06.94zm-11 1L8.5 8.5l.94-2.06 2.06-.94-2.06-.94L8.5 2.5l-.94 2.06-2.06.94zm10 10l.94 2.06.94-2.06 2.06-.94-2.06-.94-.94-2.06-.94 2.06-2.06.94z\"/><path d=\"M17.41 7.96l-1.37-1.37c-.4-.4-.92-.59-1.43-.59-.52 0-1.04.2-1.43.59L10.3 9.45l-7.72 7.72c-.78.78-.78 2.05 0 2.83L4 21.41c.39.39.9.59 1.41.59.51 0 1.02-.2 1.41-.59l7.78-7.78 2.81-2.81c.8-.78.8-2.07 0-2.86zM5.41 20L4 18.59l7.72-7.72 1.47 1.35L5.41 20z\"/>\n",
              "  </svg>\n",
              "      </button>\n",
              "      \n",
              "  <style>\n",
              "    .colab-df-container {\n",
              "      display:flex;\n",
              "      flex-wrap:wrap;\n",
              "      gap: 12px;\n",
              "    }\n",
              "\n",
              "    .colab-df-convert {\n",
              "      background-color: #E8F0FE;\n",
              "      border: none;\n",
              "      border-radius: 50%;\n",
              "      cursor: pointer;\n",
              "      display: none;\n",
              "      fill: #1967D2;\n",
              "      height: 32px;\n",
              "      padding: 0 0 0 0;\n",
              "      width: 32px;\n",
              "    }\n",
              "\n",
              "    .colab-df-convert:hover {\n",
              "      background-color: #E2EBFA;\n",
              "      box-shadow: 0px 1px 2px rgba(60, 64, 67, 0.3), 0px 1px 3px 1px rgba(60, 64, 67, 0.15);\n",
              "      fill: #174EA6;\n",
              "    }\n",
              "\n",
              "    [theme=dark] .colab-df-convert {\n",
              "      background-color: #3B4455;\n",
              "      fill: #D2E3FC;\n",
              "    }\n",
              "\n",
              "    [theme=dark] .colab-df-convert:hover {\n",
              "      background-color: #434B5C;\n",
              "      box-shadow: 0px 1px 3px 1px rgba(0, 0, 0, 0.15);\n",
              "      filter: drop-shadow(0px 1px 2px rgba(0, 0, 0, 0.3));\n",
              "      fill: #FFFFFF;\n",
              "    }\n",
              "  </style>\n",
              "\n",
              "      <script>\n",
              "        const buttonEl =\n",
              "          document.querySelector('#df-aeeb13e1-421e-4154-b1cd-b576aed17183 button.colab-df-convert');\n",
              "        buttonEl.style.display =\n",
              "          google.colab.kernel.accessAllowed ? 'block' : 'none';\n",
              "\n",
              "        async function convertToInteractive(key) {\n",
              "          const element = document.querySelector('#df-aeeb13e1-421e-4154-b1cd-b576aed17183');\n",
              "          const dataTable =\n",
              "            await google.colab.kernel.invokeFunction('convertToInteractive',\n",
              "                                                     [key], {});\n",
              "          if (!dataTable) return;\n",
              "\n",
              "          const docLinkHtml = 'Like what you see? Visit the ' +\n",
              "            '<a target=\"_blank\" href=https://colab.research.google.com/notebooks/data_table.ipynb>data table notebook</a>'\n",
              "            + ' to learn more about interactive tables.';\n",
              "          element.innerHTML = '';\n",
              "          dataTable['output_type'] = 'display_data';\n",
              "          await google.colab.output.renderOutput(dataTable, element);\n",
              "          const docLink = document.createElement('div');\n",
              "          docLink.innerHTML = docLinkHtml;\n",
              "          element.appendChild(docLink);\n",
              "        }\n",
              "      </script>\n",
              "    </div>\n",
              "  </div>\n",
              "  "
            ]
          },
          "metadata": {},
          "execution_count": 12
        }
      ]
    },
    {
      "cell_type": "code",
      "source": [
        "from Sastrawi.Stemmer.StemmerFactory import StemmerFactory\n",
        "\n",
        "# create stemmer\n",
        "factory = StemmerFactory()\n",
        "stemmer = factory.create_stemmer()"
      ],
      "metadata": {
        "id": "9lW3itZ5hamc"
      },
      "execution_count": 13,
      "outputs": []
    },
    {
      "cell_type": "code",
      "source": [
        "def text_steming(text):\n",
        "    text = stemmer.stem(text)\n",
        "    return text"
      ],
      "metadata": {
        "id": "gLdoQyb6hqYZ"
      },
      "execution_count": 14,
      "outputs": []
    },
    {
      "cell_type": "code",
      "source": [
        "data[\"clean_tweet_stopword_stem\"] = data[\"clean_tweet_stopword\"].apply(text_steming)\n",
        "data.head(10)"
      ],
      "metadata": {
        "colab": {
          "base_uri": "https://localhost:8080/",
          "height": 580
        },
        "id": "BNmO77Qqh1Po",
        "outputId": "d5a48d8f-36ad-460c-9a13-0a8072b369cb"
      },
      "execution_count": 15,
      "outputs": [
        {
          "output_type": "execute_result",
          "data": {
            "text/plain": [
              "          username                                              tweet  \\\n",
              "0          NibobaB  Ada MENU BARU di Ni Boba Brawijaya\\n\\nWaffle E...   \n",
              "1  Agungseptyanto_  @txtdrbekasi Cobain frisco burger. Di daerah p...   \n",
              "2        bibime_cc  Pengin nasi uduk, mager jalan.\\n*buka gofood, ...   \n",
              "3  skskskskkkskskk  -Aku gofood in ya biar gausa keluar sendirian\\...   \n",
              "4   404Loc_Unknown  @Odlstrn Ih disni banyaaaaaaakk. Tp pas pingin...   \n",
              "5     scarletoiles  @FOODFESS2 Bisa buat split bills pas bayar gof...   \n",
              "6          sselain  halo admin @gojekindonesia maaf mau tanya, aku...   \n",
              "7      drajatwicks  - beli migor pake pedulilindungi\\n- beli perta...   \n",
              "8         mildcigs  @modelcatfood Gofood jogja ke taiwan ongkirnya...   \n",
              "9          jayocns  karna aku pake shopee &amp; gofood jadinya aku...   \n",
              "\n",
              "                                         lower_tweet  \\\n",
              "0  ada menu baru di ni boba brawijaya\\n\\nwaffle e...   \n",
              "1  @txtdrbekasi cobain frisco burger. di daerah p...   \n",
              "2  pengin nasi uduk, mager jalan.\\n*buka gofood, ...   \n",
              "3  -aku gofood in ya biar gausa keluar sendirian\\...   \n",
              "4  @odlstrn ih disni banyaaaaaaakk. tp pas pingin...   \n",
              "5  @foodfess2 bisa buat split bills pas bayar gof...   \n",
              "6  halo admin @gojekindonesia maaf mau tanya, aku...   \n",
              "7  - beli migor pake pedulilindungi\\n- beli perta...   \n",
              "8  @modelcatfood gofood jogja ke taiwan ongkirnya...   \n",
              "9  karna aku pake shopee &amp; gofood jadinya aku...   \n",
              "\n",
              "                                         clean_tweet  \\\n",
              "0  ada menu baru di ni boba brawijaya waffle ego ...   \n",
              "1  txtdrbekasi cobain frisco burger di daerah pek...   \n",
              "2  pengin nasi uduk mager jalan buka gofood gojek...   \n",
              "3  aku gofood in ya biar gausa keluar sendirian s...   \n",
              "4  odlstrn ih disni banyaaaaaaakk tp pas pingin g...   \n",
              "5  foodfess bisa buat split bills pas bayar gofoo...   \n",
              "6  halo admin gojekindonesia maaf mau tanya akun ...   \n",
              "7  beli migor pake pedulilindungi beli pertalite ...   \n",
              "8  modelcatfood gofood jogja ke taiwan ongkirnya ...   \n",
              "9  karna aku pake shopee amp gofood jadinya aku s...   \n",
              "\n",
              "                                clean_tweet_stopword  \\\n",
              "0  menu baru ni boba brawijaya waffle ego amp bun...   \n",
              "1  txtdrbekasi cobain frisco burger daerah pekayo...   \n",
              "2  pengin nasi uduk mager jalan buka gofood gojek...   \n",
              "3  aku gofood in biar gausa keluar sendirian sama...   \n",
              "4  odlstrn ih disni banyaaaaaaakk tp pas pingin g...   \n",
              "5  foodfess buat split bills pas bayar gofood but...   \n",
              "6  halo admin gojekindonesia maaf mau tanya akun ...   \n",
              "7  beli migor pake pedulilindungi beli pertalite ...   \n",
              "8  modelcatfood gofood jogja taiwan ongkirnya ber...   \n",
              "9  karna aku pake shopee amp gofood jadinya aku s...   \n",
              "\n",
              "                           clean_tweet_stopword_stem  \n",
              "0  menu baru ni boba brawijaya waffle ego amp bun...  \n",
              "1  txtdrbekasi cobain frisco burger daerah pekayo...  \n",
              "2  pengin nasi uduk mager jalan buka gofood gojek...  \n",
              "3  aku gofood in biar gausa keluar sendiri sama a...  \n",
              "4  odlstrn ih disni banyaaaaaaakk tp pas pingin g...  \n",
              "5  foodfess buat split bills pas bayar gofood but...  \n",
              "6  halo admin gojekindonesia maaf mau tanya akun ...  \n",
              "7  beli migor pake pedulilindungi beli pertalite ...  \n",
              "8  modelcatfood gofood jogja taiwan ongkirnya ber...  \n",
              "9  karna aku pake shopee amp gofood jadi aku sela...  "
            ],
            "text/html": [
              "\n",
              "  <div id=\"df-850a1747-f9de-4086-8eae-47124038a36f\">\n",
              "    <div class=\"colab-df-container\">\n",
              "      <div>\n",
              "<style scoped>\n",
              "    .dataframe tbody tr th:only-of-type {\n",
              "        vertical-align: middle;\n",
              "    }\n",
              "\n",
              "    .dataframe tbody tr th {\n",
              "        vertical-align: top;\n",
              "    }\n",
              "\n",
              "    .dataframe thead th {\n",
              "        text-align: right;\n",
              "    }\n",
              "</style>\n",
              "<table border=\"1\" class=\"dataframe\">\n",
              "  <thead>\n",
              "    <tr style=\"text-align: right;\">\n",
              "      <th></th>\n",
              "      <th>username</th>\n",
              "      <th>tweet</th>\n",
              "      <th>lower_tweet</th>\n",
              "      <th>clean_tweet</th>\n",
              "      <th>clean_tweet_stopword</th>\n",
              "      <th>clean_tweet_stopword_stem</th>\n",
              "    </tr>\n",
              "  </thead>\n",
              "  <tbody>\n",
              "    <tr>\n",
              "      <th>0</th>\n",
              "      <td>NibobaB</td>\n",
              "      <td>Ada MENU BARU di Ni Boba Brawijaya\\n\\nWaffle E...</td>\n",
              "      <td>ada menu baru di ni boba brawijaya\\n\\nwaffle e...</td>\n",
              "      <td>ada menu baru di ni boba brawijaya waffle ego ...</td>\n",
              "      <td>menu baru ni boba brawijaya waffle ego amp bun...</td>\n",
              "      <td>menu baru ni boba brawijaya waffle ego amp bun...</td>\n",
              "    </tr>\n",
              "    <tr>\n",
              "      <th>1</th>\n",
              "      <td>Agungseptyanto_</td>\n",
              "      <td>@txtdrbekasi Cobain frisco burger. Di daerah p...</td>\n",
              "      <td>@txtdrbekasi cobain frisco burger. di daerah p...</td>\n",
              "      <td>txtdrbekasi cobain frisco burger di daerah pek...</td>\n",
              "      <td>txtdrbekasi cobain frisco burger daerah pekayo...</td>\n",
              "      <td>txtdrbekasi cobain frisco burger daerah pekayo...</td>\n",
              "    </tr>\n",
              "    <tr>\n",
              "      <th>2</th>\n",
              "      <td>bibime_cc</td>\n",
              "      <td>Pengin nasi uduk, mager jalan.\\n*buka gofood, ...</td>\n",
              "      <td>pengin nasi uduk, mager jalan.\\n*buka gofood, ...</td>\n",
              "      <td>pengin nasi uduk mager jalan buka gofood gojek...</td>\n",
              "      <td>pengin nasi uduk mager jalan buka gofood gojek...</td>\n",
              "      <td>pengin nasi uduk mager jalan buka gofood gojek...</td>\n",
              "    </tr>\n",
              "    <tr>\n",
              "      <th>3</th>\n",
              "      <td>skskskskkkskskk</td>\n",
              "      <td>-Aku gofood in ya biar gausa keluar sendirian\\...</td>\n",
              "      <td>-aku gofood in ya biar gausa keluar sendirian\\...</td>\n",
              "      <td>aku gofood in ya biar gausa keluar sendirian s...</td>\n",
              "      <td>aku gofood in biar gausa keluar sendirian sama...</td>\n",
              "      <td>aku gofood in biar gausa keluar sendiri sama a...</td>\n",
              "    </tr>\n",
              "    <tr>\n",
              "      <th>4</th>\n",
              "      <td>404Loc_Unknown</td>\n",
              "      <td>@Odlstrn Ih disni banyaaaaaaakk. Tp pas pingin...</td>\n",
              "      <td>@odlstrn ih disni banyaaaaaaakk. tp pas pingin...</td>\n",
              "      <td>odlstrn ih disni banyaaaaaaakk tp pas pingin g...</td>\n",
              "      <td>odlstrn ih disni banyaaaaaaakk tp pas pingin g...</td>\n",
              "      <td>odlstrn ih disni banyaaaaaaakk tp pas pingin g...</td>\n",
              "    </tr>\n",
              "    <tr>\n",
              "      <th>5</th>\n",
              "      <td>scarletoiles</td>\n",
              "      <td>@FOODFESS2 Bisa buat split bills pas bayar gof...</td>\n",
              "      <td>@foodfess2 bisa buat split bills pas bayar gof...</td>\n",
              "      <td>foodfess bisa buat split bills pas bayar gofoo...</td>\n",
              "      <td>foodfess buat split bills pas bayar gofood but...</td>\n",
              "      <td>foodfess buat split bills pas bayar gofood but...</td>\n",
              "    </tr>\n",
              "    <tr>\n",
              "      <th>6</th>\n",
              "      <td>sselain</td>\n",
              "      <td>halo admin @gojekindonesia maaf mau tanya, aku...</td>\n",
              "      <td>halo admin @gojekindonesia maaf mau tanya, aku...</td>\n",
              "      <td>halo admin gojekindonesia maaf mau tanya akun ...</td>\n",
              "      <td>halo admin gojekindonesia maaf mau tanya akun ...</td>\n",
              "      <td>halo admin gojekindonesia maaf mau tanya akun ...</td>\n",
              "    </tr>\n",
              "    <tr>\n",
              "      <th>7</th>\n",
              "      <td>drajatwicks</td>\n",
              "      <td>- beli migor pake pedulilindungi\\n- beli perta...</td>\n",
              "      <td>- beli migor pake pedulilindungi\\n- beli perta...</td>\n",
              "      <td>beli migor pake pedulilindungi beli pertalite ...</td>\n",
              "      <td>beli migor pake pedulilindungi beli pertalite ...</td>\n",
              "      <td>beli migor pake pedulilindungi beli pertalite ...</td>\n",
              "    </tr>\n",
              "    <tr>\n",
              "      <th>8</th>\n",
              "      <td>mildcigs</td>\n",
              "      <td>@modelcatfood Gofood jogja ke taiwan ongkirnya...</td>\n",
              "      <td>@modelcatfood gofood jogja ke taiwan ongkirnya...</td>\n",
              "      <td>modelcatfood gofood jogja ke taiwan ongkirnya ...</td>\n",
              "      <td>modelcatfood gofood jogja taiwan ongkirnya ber...</td>\n",
              "      <td>modelcatfood gofood jogja taiwan ongkirnya ber...</td>\n",
              "    </tr>\n",
              "    <tr>\n",
              "      <th>9</th>\n",
              "      <td>jayocns</td>\n",
              "      <td>karna aku pake shopee &amp;amp; gofood jadinya aku...</td>\n",
              "      <td>karna aku pake shopee &amp;amp; gofood jadinya aku...</td>\n",
              "      <td>karna aku pake shopee amp gofood jadinya aku s...</td>\n",
              "      <td>karna aku pake shopee amp gofood jadinya aku s...</td>\n",
              "      <td>karna aku pake shopee amp gofood jadi aku sela...</td>\n",
              "    </tr>\n",
              "  </tbody>\n",
              "</table>\n",
              "</div>\n",
              "      <button class=\"colab-df-convert\" onclick=\"convertToInteractive('df-850a1747-f9de-4086-8eae-47124038a36f')\"\n",
              "              title=\"Convert this dataframe to an interactive table.\"\n",
              "              style=\"display:none;\">\n",
              "        \n",
              "  <svg xmlns=\"http://www.w3.org/2000/svg\" height=\"24px\"viewBox=\"0 0 24 24\"\n",
              "       width=\"24px\">\n",
              "    <path d=\"M0 0h24v24H0V0z\" fill=\"none\"/>\n",
              "    <path d=\"M18.56 5.44l.94 2.06.94-2.06 2.06-.94-2.06-.94-.94-2.06-.94 2.06-2.06.94zm-11 1L8.5 8.5l.94-2.06 2.06-.94-2.06-.94L8.5 2.5l-.94 2.06-2.06.94zm10 10l.94 2.06.94-2.06 2.06-.94-2.06-.94-.94-2.06-.94 2.06-2.06.94z\"/><path d=\"M17.41 7.96l-1.37-1.37c-.4-.4-.92-.59-1.43-.59-.52 0-1.04.2-1.43.59L10.3 9.45l-7.72 7.72c-.78.78-.78 2.05 0 2.83L4 21.41c.39.39.9.59 1.41.59.51 0 1.02-.2 1.41-.59l7.78-7.78 2.81-2.81c.8-.78.8-2.07 0-2.86zM5.41 20L4 18.59l7.72-7.72 1.47 1.35L5.41 20z\"/>\n",
              "  </svg>\n",
              "      </button>\n",
              "      \n",
              "  <style>\n",
              "    .colab-df-container {\n",
              "      display:flex;\n",
              "      flex-wrap:wrap;\n",
              "      gap: 12px;\n",
              "    }\n",
              "\n",
              "    .colab-df-convert {\n",
              "      background-color: #E8F0FE;\n",
              "      border: none;\n",
              "      border-radius: 50%;\n",
              "      cursor: pointer;\n",
              "      display: none;\n",
              "      fill: #1967D2;\n",
              "      height: 32px;\n",
              "      padding: 0 0 0 0;\n",
              "      width: 32px;\n",
              "    }\n",
              "\n",
              "    .colab-df-convert:hover {\n",
              "      background-color: #E2EBFA;\n",
              "      box-shadow: 0px 1px 2px rgba(60, 64, 67, 0.3), 0px 1px 3px 1px rgba(60, 64, 67, 0.15);\n",
              "      fill: #174EA6;\n",
              "    }\n",
              "\n",
              "    [theme=dark] .colab-df-convert {\n",
              "      background-color: #3B4455;\n",
              "      fill: #D2E3FC;\n",
              "    }\n",
              "\n",
              "    [theme=dark] .colab-df-convert:hover {\n",
              "      background-color: #434B5C;\n",
              "      box-shadow: 0px 1px 3px 1px rgba(0, 0, 0, 0.15);\n",
              "      filter: drop-shadow(0px 1px 2px rgba(0, 0, 0, 0.3));\n",
              "      fill: #FFFFFF;\n",
              "    }\n",
              "  </style>\n",
              "\n",
              "      <script>\n",
              "        const buttonEl =\n",
              "          document.querySelector('#df-850a1747-f9de-4086-8eae-47124038a36f button.colab-df-convert');\n",
              "        buttonEl.style.display =\n",
              "          google.colab.kernel.accessAllowed ? 'block' : 'none';\n",
              "\n",
              "        async function convertToInteractive(key) {\n",
              "          const element = document.querySelector('#df-850a1747-f9de-4086-8eae-47124038a36f');\n",
              "          const dataTable =\n",
              "            await google.colab.kernel.invokeFunction('convertToInteractive',\n",
              "                                                     [key], {});\n",
              "          if (!dataTable) return;\n",
              "\n",
              "          const docLinkHtml = 'Like what you see? Visit the ' +\n",
              "            '<a target=\"_blank\" href=https://colab.research.google.com/notebooks/data_table.ipynb>data table notebook</a>'\n",
              "            + ' to learn more about interactive tables.';\n",
              "          element.innerHTML = '';\n",
              "          dataTable['output_type'] = 'display_data';\n",
              "          await google.colab.output.renderOutput(dataTable, element);\n",
              "          const docLink = document.createElement('div');\n",
              "          docLink.innerHTML = docLinkHtml;\n",
              "          element.appendChild(docLink);\n",
              "        }\n",
              "      </script>\n",
              "    </div>\n",
              "  </div>\n",
              "  "
            ]
          },
          "metadata": {},
          "execution_count": 15
        }
      ]
    },
    {
      "cell_type": "code",
      "source": [
        "from nlp_id.lemmatizer import Lemmatizer"
      ],
      "metadata": {
        "id": "XFKptcCK2ff2"
      },
      "execution_count": 16,
      "outputs": []
    },
    {
      "cell_type": "code",
      "source": [
        "lemmatizer = Lemmatizer()\n",
        "\n",
        "def lemmatizing(text):\n",
        "    text = lemmatizer.lemmatize(text)\n",
        "    return text"
      ],
      "metadata": {
        "id": "b_sn62fL2ib_"
      },
      "execution_count": null,
      "outputs": []
    },
    {
      "cell_type": "code",
      "source": [
        "# clean_tweet_stopword_stem"
      ],
      "metadata": {
        "id": "rJJZyzNN2uDJ"
      },
      "execution_count": null,
      "outputs": []
    },
    {
      "cell_type": "code",
      "source": [
        "from nltk.sentiment.vader import SentimentIntensityAnalyzer\n",
        "nltk.download('vader_lexicon')\n",
        "sentiments = SentimentIntensityAnalyzer()\n",
        "data[\"Positive\"] = [sentiments.polarity_scores(i)[\"pos\"] for i in data[\"clean_tweet_stopword_stem\"]]\n",
        "data[\"Negative\"] = [sentiments.polarity_scores(i)[\"neg\"] for i in data[\"clean_tweet_stopword_stem\"]]\n",
        "data[\"Neutral\"] = [sentiments.polarity_scores(i)[\"neu\"] for i in data[\"clean_tweet_stopword_stem\"]]"
      ],
      "metadata": {
        "colab": {
          "base_uri": "https://localhost:8080/"
        },
        "id": "Fq3tFVTE3HMU",
        "outputId": "4e97cb8d-c7b1-4047-8986-2ea6e0cfada7"
      },
      "execution_count": 17,
      "outputs": [
        {
          "output_type": "stream",
          "name": "stderr",
          "text": [
            "[nltk_data] Downloading package vader_lexicon to /root/nltk_data...\n"
          ]
        }
      ]
    },
    {
      "cell_type": "code",
      "source": [
        "data = data[[\"clean_tweet_stopword_stem\", \"Positive\", \"Negative\", \"Neutral\"]]\n",
        "data.head()"
      ],
      "metadata": {
        "colab": {
          "base_uri": "https://localhost:8080/",
          "height": 206
        },
        "id": "bk_TQZ-R3WGJ",
        "outputId": "1c434b93-4df3-4180-fb4d-4c1e21cddbfb"
      },
      "execution_count": 18,
      "outputs": [
        {
          "output_type": "execute_result",
          "data": {
            "text/plain": [
              "                           clean_tweet_stopword_stem  Positive  Negative  \\\n",
              "0  menu baru ni boba brawijaya waffle ego amp bun...       0.0       0.0   \n",
              "1  txtdrbekasi cobain frisco burger daerah pekayo...       0.0       0.0   \n",
              "2  pengin nasi uduk mager jalan buka gofood gojek...       0.0       0.0   \n",
              "3  aku gofood in biar gausa keluar sendiri sama a...       0.0       0.0   \n",
              "4  odlstrn ih disni banyaaaaaaakk tp pas pingin g...       0.0       0.0   \n",
              "\n",
              "   Neutral  \n",
              "0      1.0  \n",
              "1      1.0  \n",
              "2      1.0  \n",
              "3      1.0  \n",
              "4      1.0  "
            ],
            "text/html": [
              "\n",
              "  <div id=\"df-c648ee6f-6744-4811-8032-527cee44d415\">\n",
              "    <div class=\"colab-df-container\">\n",
              "      <div>\n",
              "<style scoped>\n",
              "    .dataframe tbody tr th:only-of-type {\n",
              "        vertical-align: middle;\n",
              "    }\n",
              "\n",
              "    .dataframe tbody tr th {\n",
              "        vertical-align: top;\n",
              "    }\n",
              "\n",
              "    .dataframe thead th {\n",
              "        text-align: right;\n",
              "    }\n",
              "</style>\n",
              "<table border=\"1\" class=\"dataframe\">\n",
              "  <thead>\n",
              "    <tr style=\"text-align: right;\">\n",
              "      <th></th>\n",
              "      <th>clean_tweet_stopword_stem</th>\n",
              "      <th>Positive</th>\n",
              "      <th>Negative</th>\n",
              "      <th>Neutral</th>\n",
              "    </tr>\n",
              "  </thead>\n",
              "  <tbody>\n",
              "    <tr>\n",
              "      <th>0</th>\n",
              "      <td>menu baru ni boba brawijaya waffle ego amp bun...</td>\n",
              "      <td>0.0</td>\n",
              "      <td>0.0</td>\n",
              "      <td>1.0</td>\n",
              "    </tr>\n",
              "    <tr>\n",
              "      <th>1</th>\n",
              "      <td>txtdrbekasi cobain frisco burger daerah pekayo...</td>\n",
              "      <td>0.0</td>\n",
              "      <td>0.0</td>\n",
              "      <td>1.0</td>\n",
              "    </tr>\n",
              "    <tr>\n",
              "      <th>2</th>\n",
              "      <td>pengin nasi uduk mager jalan buka gofood gojek...</td>\n",
              "      <td>0.0</td>\n",
              "      <td>0.0</td>\n",
              "      <td>1.0</td>\n",
              "    </tr>\n",
              "    <tr>\n",
              "      <th>3</th>\n",
              "      <td>aku gofood in biar gausa keluar sendiri sama a...</td>\n",
              "      <td>0.0</td>\n",
              "      <td>0.0</td>\n",
              "      <td>1.0</td>\n",
              "    </tr>\n",
              "    <tr>\n",
              "      <th>4</th>\n",
              "      <td>odlstrn ih disni banyaaaaaaakk tp pas pingin g...</td>\n",
              "      <td>0.0</td>\n",
              "      <td>0.0</td>\n",
              "      <td>1.0</td>\n",
              "    </tr>\n",
              "  </tbody>\n",
              "</table>\n",
              "</div>\n",
              "      <button class=\"colab-df-convert\" onclick=\"convertToInteractive('df-c648ee6f-6744-4811-8032-527cee44d415')\"\n",
              "              title=\"Convert this dataframe to an interactive table.\"\n",
              "              style=\"display:none;\">\n",
              "        \n",
              "  <svg xmlns=\"http://www.w3.org/2000/svg\" height=\"24px\"viewBox=\"0 0 24 24\"\n",
              "       width=\"24px\">\n",
              "    <path d=\"M0 0h24v24H0V0z\" fill=\"none\"/>\n",
              "    <path d=\"M18.56 5.44l.94 2.06.94-2.06 2.06-.94-2.06-.94-.94-2.06-.94 2.06-2.06.94zm-11 1L8.5 8.5l.94-2.06 2.06-.94-2.06-.94L8.5 2.5l-.94 2.06-2.06.94zm10 10l.94 2.06.94-2.06 2.06-.94-2.06-.94-.94-2.06-.94 2.06-2.06.94z\"/><path d=\"M17.41 7.96l-1.37-1.37c-.4-.4-.92-.59-1.43-.59-.52 0-1.04.2-1.43.59L10.3 9.45l-7.72 7.72c-.78.78-.78 2.05 0 2.83L4 21.41c.39.39.9.59 1.41.59.51 0 1.02-.2 1.41-.59l7.78-7.78 2.81-2.81c.8-.78.8-2.07 0-2.86zM5.41 20L4 18.59l7.72-7.72 1.47 1.35L5.41 20z\"/>\n",
              "  </svg>\n",
              "      </button>\n",
              "      \n",
              "  <style>\n",
              "    .colab-df-container {\n",
              "      display:flex;\n",
              "      flex-wrap:wrap;\n",
              "      gap: 12px;\n",
              "    }\n",
              "\n",
              "    .colab-df-convert {\n",
              "      background-color: #E8F0FE;\n",
              "      border: none;\n",
              "      border-radius: 50%;\n",
              "      cursor: pointer;\n",
              "      display: none;\n",
              "      fill: #1967D2;\n",
              "      height: 32px;\n",
              "      padding: 0 0 0 0;\n",
              "      width: 32px;\n",
              "    }\n",
              "\n",
              "    .colab-df-convert:hover {\n",
              "      background-color: #E2EBFA;\n",
              "      box-shadow: 0px 1px 2px rgba(60, 64, 67, 0.3), 0px 1px 3px 1px rgba(60, 64, 67, 0.15);\n",
              "      fill: #174EA6;\n",
              "    }\n",
              "\n",
              "    [theme=dark] .colab-df-convert {\n",
              "      background-color: #3B4455;\n",
              "      fill: #D2E3FC;\n",
              "    }\n",
              "\n",
              "    [theme=dark] .colab-df-convert:hover {\n",
              "      background-color: #434B5C;\n",
              "      box-shadow: 0px 1px 3px 1px rgba(0, 0, 0, 0.15);\n",
              "      filter: drop-shadow(0px 1px 2px rgba(0, 0, 0, 0.3));\n",
              "      fill: #FFFFFF;\n",
              "    }\n",
              "  </style>\n",
              "\n",
              "      <script>\n",
              "        const buttonEl =\n",
              "          document.querySelector('#df-c648ee6f-6744-4811-8032-527cee44d415 button.colab-df-convert');\n",
              "        buttonEl.style.display =\n",
              "          google.colab.kernel.accessAllowed ? 'block' : 'none';\n",
              "\n",
              "        async function convertToInteractive(key) {\n",
              "          const element = document.querySelector('#df-c648ee6f-6744-4811-8032-527cee44d415');\n",
              "          const dataTable =\n",
              "            await google.colab.kernel.invokeFunction('convertToInteractive',\n",
              "                                                     [key], {});\n",
              "          if (!dataTable) return;\n",
              "\n",
              "          const docLinkHtml = 'Like what you see? Visit the ' +\n",
              "            '<a target=\"_blank\" href=https://colab.research.google.com/notebooks/data_table.ipynb>data table notebook</a>'\n",
              "            + ' to learn more about interactive tables.';\n",
              "          element.innerHTML = '';\n",
              "          dataTable['output_type'] = 'display_data';\n",
              "          await google.colab.output.renderOutput(dataTable, element);\n",
              "          const docLink = document.createElement('div');\n",
              "          docLink.innerHTML = docLinkHtml;\n",
              "          element.appendChild(docLink);\n",
              "        }\n",
              "      </script>\n",
              "    </div>\n",
              "  </div>\n",
              "  "
            ]
          },
          "metadata": {},
          "execution_count": 18
        }
      ]
    },
    {
      "cell_type": "code",
      "source": [
        "x = sum(data[\"Positive\"])\n",
        "y = sum(data[\"Negative\"])\n",
        "z = sum(data[\"Neutral\"])\n",
        "\n",
        "def sentiment_score(a, b, c):\n",
        "    if (a>b) and (a>c):\n",
        "        print(\"Positive 😊 \")\n",
        "    elif (b>a) and (b>c):\n",
        "        print(\"Negative 😠 \")\n",
        "    else:\n",
        "        print(\"Neutral 🙂 \")\n",
        "sentiment_score(x, y, z)"
      ],
      "metadata": {
        "colab": {
          "base_uri": "https://localhost:8080/"
        },
        "id": "ZH3JLxzU3XTm",
        "outputId": "9faa379f-606a-43e1-9abc-e485351a2252"
      },
      "execution_count": 19,
      "outputs": [
        {
          "output_type": "stream",
          "name": "stdout",
          "text": [
            "Neutral 🙂 \n"
          ]
        }
      ]
    },
    {
      "cell_type": "code",
      "source": [
        "print(\"Positive: \", x)\n",
        "print(\"Negative: \", y)\n",
        "print(\"Neutral: \", z)"
      ],
      "metadata": {
        "colab": {
          "base_uri": "https://localhost:8080/"
        },
        "id": "8DpaCvaF3eIw",
        "outputId": "d421bfa3-e496-404c-ff19-73ef1fdf20ba"
      },
      "execution_count": 20,
      "outputs": [
        {
          "output_type": "stream",
          "name": "stdout",
          "text": [
            "Positive:  346.2729999999997\n",
            "Negative:  171.68899999999974\n",
            "Neutral:  28245.034999999934\n"
          ]
        }
      ]
    },
    {
      "cell_type": "code",
      "source": [
        "# # text lowering\n",
        "# def lower(text):\n",
        "#     text = str(text).lower()\n",
        "#     return text\n",
        "# data[\"tweets\"] = data[\"tweet\"].apply(lower)"
      ],
      "metadata": {
        "id": "9I9Upp6ORbA7"
      },
      "execution_count": null,
      "outputs": []
    },
    {
      "cell_type": "code",
      "source": [
        "# data.head()"
      ],
      "metadata": {
        "id": "kgy1R9dIEZoB"
      },
      "execution_count": null,
      "outputs": []
    }
  ]
}